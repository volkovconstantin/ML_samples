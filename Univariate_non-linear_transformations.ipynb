{
 "cells": [
  {
   "cell_type": "code",
   "execution_count": 1,
   "metadata": {
    "collapsed": true
   },
   "outputs": [],
   "source": [
    "%matplotlib inline\n",
    "import matplotlib.pyplot as plt\n",
    "import numpy as np\n",
    "import mglearn"
   ]
  },
  {
   "cell_type": "code",
   "execution_count": 4,
   "metadata": {
    "collapsed": true
   },
   "outputs": [],
   "source": [
    "rnd=np.random.RandomState(0)\n",
    "X_org= rnd.normal(size=(1000,3))\n",
    "w=rnd.normal(size=3)\n",
    "\n",
    "X=rnd.poisson(10*np.exp(X_org))\n",
    "y=np.dot(X_org,w)"
   ]
  },
  {
   "cell_type": "code",
   "execution_count": 12,
   "metadata": {},
   "outputs": [
    {
     "data": {
      "text/plain": [
       "(0, 141)"
      ]
     },
     "execution_count": 12,
     "metadata": {},
     "output_type": "execute_result"
    },
    {
     "data": {
      "image/png": "[encoded data removed]",
      "text/plain": [
       "<matplotlib.figure.Figure at 0xd4395f0>"
      ]
     },
     "metadata": {},
     "output_type": "display_data"
    }
   ],
   "source": [
    "bins=np.bincount(X[:,0])\n",
    "plt.bar(range(len(bins)), bins)\n",
    "plt.xlim(0,len(bins))"
   ]
  },
  {
   "cell_type": "code",
   "execution_count": 13,
   "metadata": {},
   "outputs": [
    {
     "data": {
      "text/plain": [
       "0.62241862363107558"
      ]
     },
     "execution_count": 13,
     "metadata": {},
     "output_type": "execute_result"
    }
   ],
   "source": [
    "from sklearn.linear_model import Ridge\n",
    "from sklearn.model_selection import train_test_split\n",
    "\n",
    "X_train, X_test, y_train, y_test = train_test_split(X,y, random_state=0)\n",
    "score=Ridge().fit(X_train, y_train).score(X_test, y_test)\n",
    "score"
   ]
  },
  {
   "cell_type": "code",
   "execution_count": 15,
   "metadata": {},
   "outputs": [
    {
     "data": {
      "text/plain": [
       "(array([ 19.,   0.,   0.,  31.,   0.,  56.,   0.,  37.,  41.,  44.,  67.,\n",
       "         29.,  82.,  50.,  60.,  65.,  48.,  32.,  23.,  21.,  19.,   7.,\n",
       "          7.,   8.,   4.]),\n",
       " array([ 0.        ,  0.19183162,  0.38366324,  0.57549487,  0.76732649,\n",
       "         0.95915811,  1.15098973,  1.34282135,  1.53465297,  1.7264846 ,\n",
       "         1.91831622,  2.11014784,  2.30197946,  2.49381108,  2.68564271,\n",
       "         2.87747433,  3.06930595,  3.26113757,  3.45296919,  3.64480081,\n",
       "         3.83663244,  4.02846406,  4.22029568,  4.4121273 ,  4.60395892,\n",
       "         4.79579055]),\n",
       " <a list of 25 Patch objects>)"
      ]
     },
     "execution_count": 15,
     "metadata": {},
     "output_type": "execute_result"
    },
    {
     "data": {
      "image/png": "[encoded data removed]",
      "text/plain": [
       "<matplotlib.figure.Figure at 0xd64d350>"
      ]
     },
     "metadata": {},
     "output_type": "display_data"
    }
   ],
   "source": [
    "# as X=0 and there is no log(x) for x=0 we will calculate log(x+1)\n",
    "\n",
    "X_train_log=np.log(X_train+1)\n",
    "X_test_log=np.log(X_test+1)\n",
    "\n",
    "plt.hist(X_train_log[:,0], bins=25)"
   ]
  },
  {
   "cell_type": "code",
   "execution_count": 17,
   "metadata": {},
   "outputs": [
    {
     "data": {
      "text/plain": [
       "0.8749342372887815"
      ]
     },
     "execution_count": 17,
     "metadata": {},
     "output_type": "execute_result"
    }
   ],
   "source": [
    "score=Ridge().fit(X_train_log, y_train).score(X_test_log, y_test)\n",
    "score"
   ]
  },
  {
   "cell_type": "code",
   "execution_count": null,
   "metadata": {
    "collapsed": true
   },
   "outputs": [],
   "source": []
  }
 ],
 "metadata": {
  "kernelspec": {
   "display_name": "Python 3",
   "language": "python",
   "name": "python3"
  },
  "language_info": {
   "codemirror_mode": {
    "name": "ipython",
    "version": 3
   },
   "file_extension": ".py",
   "mimetype": "text/x-python",
   "name": "python",
   "nbconvert_exporter": "python",
   "pygments_lexer": "ipython3",
   "version": "3.6.3"
  }
 },
 "nbformat": 4,
 "nbformat_minor": 2
}
